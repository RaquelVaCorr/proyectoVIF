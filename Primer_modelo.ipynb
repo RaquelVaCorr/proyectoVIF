{
 "cells": [
  {
   "cell_type": "code",
   "execution_count": 38,
   "metadata": {},
   "outputs": [],
   "source": [
    "# Import libraries and classes required \n",
    "from sklearn.preprocessing import OneHotEncoder, OrdinalEncoder\n",
    "from sklearn.compose import make_column_transformer\n",
    "from sklearn.pipeline import make_pipeline\n",
    "from sklearn.linear_model import LogisticRegression\n",
    "from sklearn.ensemble import GradientBoostingRegressor\n",
    "from sklearn.metrics import mean_absolute_error, mean_squared_error\n",
    "from sklearn.model_selection import train_test_split\n",
    "from sklearn.preprocessing import StandardScaler \n",
    "from sklearn.neighbors import KNeighborsClassifier\n",
    "from sklearn.metrics import classification_report, confusion_matrix\n",
    "import pandas as pd "
   ]
  },
  {
   "cell_type": "code",
   "execution_count": 9,
   "metadata": {},
   "outputs": [],
   "source": [
    "#! pip install scikit-learn"
   ]
  },
  {
   "cell_type": "code",
   "execution_count": 105,
   "metadata": {},
   "outputs": [
    {
     "data": {
      "text/plain": [
       "(34326, 16)"
      ]
     },
     "execution_count": 105,
     "metadata": {},
     "output_type": "execute_result"
    }
   ],
   "source": [
    "#import data\n",
    "# Import dataset:\n",
    "dataset = pd.read_excel(\"union_vif_ds.xlsx\")\n",
    "dataset.shape"
   ]
  },
  {
   "cell_type": "code",
   "execution_count": 106,
   "metadata": {},
   "outputs": [
    {
     "data": {
      "text/plain": [
       "Index(['Unnamed: 0', 'numero_documento', 'fecha_denuncia', 'ocupacion', 'edad',\n",
       "       'testigo', 'arma_medio', 'modalidad_1257', 'modalidad_294',\n",
       "       'nivel_academico', 'sexo', 'Número denuncias vif', 'relato', 'DS',\n",
       "       'Homicido', 'reincidente total'],\n",
       "      dtype='object')"
      ]
     },
     "execution_count": 106,
     "metadata": {},
     "output_type": "execute_result"
    }
   ],
   "source": [
    "dataset.columns"
   ]
  },
  {
   "cell_type": "code",
   "execution_count": 66,
   "metadata": {},
   "outputs": [
    {
     "data": {
      "text/plain": [
       "(29828, 6)"
      ]
     },
     "execution_count": 66,
     "metadata": {},
     "output_type": "execute_result"
    }
   ],
   "source": [
    "#drop na values\n",
    "dataset2 = dataset[['arma_medio',  'modalidad_294', 'sexo', 'nivel_academico', 'edad', 'reincidente total']].dropna().reset_index(drop=True)\n",
    "dataset2.shape"
   ]
  },
  {
   "cell_type": "code",
   "execution_count": 88,
   "metadata": {},
   "outputs": [],
   "source": [
    "X = dataset2[['arma_medio',  'modalidad_294', 'sexo', 'nivel_academico', 'edad']]\n",
    "#X = dataset2[['arma_medio',  'modalidad_294', 'sexo', 'nivel_academico']]\n",
    "y = dataset2['reincidente total']"
   ]
  },
  {
   "cell_type": "code",
   "execution_count": 77,
   "metadata": {},
   "outputs": [
    {
     "data": {
      "text/plain": [
       "array(['Bachillerato', 'Universitario', 'Primaria', 'Técnica',\n",
       "       'Especialización'], dtype=object)"
      ]
     },
     "execution_count": 77,
     "metadata": {},
     "output_type": "execute_result"
    }
   ],
   "source": [
    "X['nivel_academico'].unique()"
   ]
  },
  {
   "cell_type": "code",
   "execution_count": 96,
   "metadata": {},
   "outputs": [
    {
     "name": "stderr",
     "output_type": "stream",
     "text": [
      "/usr/local/lib/python3.8/site-packages/sklearn/preprocessing/_encoders.py:868: FutureWarning: `sparse` was renamed to `sparse_output` in version 1.2 and will be removed in 1.4. `sparse_output` is ignored unless you leave `sparse` to its default value.\n",
      "  warnings.warn(\n"
     ]
    },
    {
     "name": "stdout",
     "output_type": "stream",
     "text": [
      "[[ 0.0841939  -0.18623943  0.1837153  -0.37116517  0.17724036  0.04341387\n",
      "   0.03899179 -0.15050513 -0.10833953 -0.09803847  0.11990399 -0.16692131\n",
      "  -0.16821292  0.36369069  0.10058971 -0.26130037  0.1924592  -0.10313944]]\n"
     ]
    },
    {
     "name": "stderr",
     "output_type": "stream",
     "text": [
      "/usr/local/lib/python3.8/site-packages/sklearn/linear_model/_logistic.py:458: ConvergenceWarning: lbfgs failed to converge (status=1):\n",
      "STOP: TOTAL NO. of ITERATIONS REACHED LIMIT.\n",
      "\n",
      "Increase the number of iterations (max_iter) or scale the data as shown in:\n",
      "    https://scikit-learn.org/stable/modules/preprocessing.html\n",
      "Please also refer to the documentation for alternative solver options:\n",
      "    https://scikit-learn.org/stable/modules/linear_model.html#logistic-regression\n",
      "  n_iter_i = _check_optimize_result(\n"
     ]
    }
   ],
   "source": [
    "# Define encoders for categorical variables\n",
    "ohe = OneHotEncoder(sparse=False)\n",
    "oe = OrdinalEncoder(categories=[[ \"Primaria\", \"Bachillerato\", \"Técnica\", \"Universitario\", \"Especialización\"]])\n",
    "\n",
    "# Define column transformer to apply encoders to categorical variables\n",
    "ct = make_column_transformer(\n",
    "    (ohe, ['arma_medio', 'modalidad_294', 'sexo']),\n",
    "    (oe, ['nivel_academico']),\n",
    "    remainder='passthrough')\n",
    "\n",
    "# Split data into training and testing sets\n",
    "X_train, X_test, y_train, y_test = train_test_split(X, y, test_size=0.2, random_state=42, stratify=y)\n",
    "\n",
    "# Fit the column transformer on the training data\n",
    "ct.fit(X_train)\n",
    "\n",
    "# Apply the column transformer to the training and testing data\n",
    "X_train_enc = ct.transform(X_train)\n",
    "X_test_enc = ct.transform(X_test)\n",
    "\n",
    "# Create logistic regression object\n",
    "logreg = LogisticRegression()\n",
    "\n",
    "# Fit the logistic regression model on the encoded training data\n",
    "logreg.fit(X_train_enc, y_train)\n",
    "\n",
    "# Predict on the encoded test data\n",
    "y_pred = logreg.predict(X_test_enc)\n",
    "\n",
    "# Evaluate the model performance\n",
    "accuracy = logreg.score(X_test_enc, y_test)\n",
    "\n",
    "# View the coefficients of the logistic regression model\n",
    "coefficients = logreg.coef_\n",
    "print(coefficients)\n",
    "\n",
    "# Get the confusion matrix\n",
    "confusion_mat = confusion_matrix(y_test, y_pred)\n",
    "print(confusion_mat)\n"
   ]
  }
 ],
 "metadata": {
  "kernelspec": {
   "display_name": "Python 3",
   "language": "python",
   "name": "python3"
  },
  "language_info": {
   "codemirror_mode": {
    "name": "ipython",
    "version": 3
   },
   "file_extension": ".py",
   "mimetype": "text/x-python",
   "name": "python",
   "nbconvert_exporter": "python",
   "pygments_lexer": "ipython3",
   "version": "3.8.16"
  },
  "orig_nbformat": 4,
  "vscode": {
   "interpreter": {
    "hash": "949777d72b0d2535278d3dc13498b2535136f6dfe0678499012e853ee9abcab1"
   }
  }
 },
 "nbformat": 4,
 "nbformat_minor": 2
}
