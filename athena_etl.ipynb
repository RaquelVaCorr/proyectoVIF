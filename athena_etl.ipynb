{
 "cells": [
  {
   "cell_type": "code",
   "execution_count": 1,
   "metadata": {},
   "outputs": [],
   "source": [
    "import configparser\n",
    "config = configparser.ConfigParser()\n",
    "# read the configuration file\n",
    "config.read('notebook.ini')\n",
    "# get all the connections\n",
    "config.sections()\n",
    "AWS_ACCESS_KEY = config.get('athena', 'ACCES_KEY_ID')\n",
    "AWS_SECRET_KEY = config.get('athena', 'SECRET_ACCES_KEY')\n",
    "AWS_REGION = config.get('athena', 'AwsRegion')\n",
    "RESULT_OUTPUT_LOCATION = config.get('athena', 'S3OutputLocation')\n",
    "DATABASE_NAME = config.get('athena', 'Schema')"
   ]
  },
  {
   "attachments": {},
   "cell_type": "markdown",
   "metadata": {},
   "source": [
    "# Import modules and make athena conexion"
   ]
  },
  {
   "cell_type": "code",
   "execution_count": 64,
   "metadata": {},
   "outputs": [],
   "source": [
    "import pyathena\n",
    "import pandas as pd\n",
    "\n",
    "## Directly by panda\n",
    "athena_conn = pyathena.connect(aws_access_key_id=AWS_ACCESS_KEY, ##credentials of aws_access_key_id\n",
    "                 aws_secret_access_key=AWS_SECRET_KEY , ##credentials of aws_secret_access_key\n",
    "                 s3_staging_dir=RESULT_OUTPUT_LOCATION, ##where the athena query result saved - checked in S3 ,\n",
    "                 region_name=AWS_REGION) ##the region you set for Athena"
   ]
  },
  {
   "cell_type": "code",
   "execution_count": 66,
   "metadata": {},
   "outputs": [
    {
     "name": "stderr",
     "output_type": "stream",
     "text": [
      "/tmp/ipykernel_1678/3617825314.py:1: UserWarning: pandas only supports SQLAlchemy connectable (engine/connection) or database string URI or sqlite3 DBAPI2 connection. Other DBAPI2 objects are not tested. Please consider using SQLAlchemy.\n",
      "  df = pd.read_sql(\"SHOW TABLES IN seguridad\", athena_conn)\n"
     ]
    }
   ],
   "source": [
    "df = pd.read_sql(\"SHOW TABLES IN seguridad\", athena_conn)"
   ]
  },
  {
   "cell_type": "code",
   "execution_count": 70,
   "metadata": {},
   "outputs": [
    {
     "name": "stderr",
     "output_type": "stream",
     "text": [
      "/tmp/ipykernel_1678/1896282793.py:1: UserWarning: pandas only supports SQLAlchemy connectable (engine/connection) or database string URI or sqlite3 DBAPI2 connection. Other DBAPI2 objects are not tested. Please consider using SQLAlchemy.\n",
      "  vif = pd.read_sql(\"SELECT * FROM seguridad.vif\", athena_conn)\n"
     ]
    }
   ],
   "source": [
    "vif = pd.read_sql(\"SELECT * FROM seguridad.vif\", athena_conn)\n",
    "vif.to_csv(\"vif.csv\")"
   ]
  },
  {
   "cell_type": "code",
   "execution_count": 74,
   "metadata": {},
   "outputs": [
    {
     "name": "stderr",
     "output_type": "stream",
     "text": [
      "/tmp/ipykernel_1678/1437705022.py:1: UserWarning: pandas only supports SQLAlchemy connectable (engine/connection) or database string URI or sqlite3 DBAPI2 connection. Other DBAPI2 objects are not tested. Please consider using SQLAlchemy.\n",
      "  homicidio = pd.read_sql(\"SELECT * FROM seguridad.homicidio\", athena_conn)\n"
     ]
    }
   ],
   "source": [
    "homicidio = pd.read_sql(\"SELECT * FROM seguridad.homicidio\", athena_conn)\n",
    "homicidio.to_csv(\"homicidio.csv\")"
   ]
  },
  {
   "cell_type": "code",
   "execution_count": 6,
   "metadata": {},
   "outputs": [
    {
     "name": "stderr",
     "output_type": "stream",
     "text": [
      "/tmp/ipykernel_10076/3575989697.py:1: UserWarning: pandas only supports SQLAlchemy connectable (engine/connection) or database string URI or sqlite3 DBAPI2 connection. Other DBAPI2 objects are not tested. Please consider using SQLAlchemy.\n",
      "  ds = pd.read_sql(\"SELECT * FROM seguridad.delito_sexual\", athena_conn)\n"
     ]
    }
   ],
   "source": [
    "ds = pd.read_sql(\"SELECT * FROM seguridad.delito_sexual\", athena_conn)\n",
    "ds.to_csv(\"ds.csv\")"
   ]
  }
 ],
 "metadata": {
  "kernelspec": {
   "display_name": "Python 3",
   "language": "python",
   "name": "python3"
  },
  "language_info": {
   "codemirror_mode": {
    "name": "ipython",
    "version": 3
   },
   "file_extension": ".py",
   "mimetype": "text/x-python",
   "name": "python",
   "nbconvert_exporter": "python",
   "pygments_lexer": "ipython3",
   "version": "3.8.16"
  },
  "orig_nbformat": 4,
  "vscode": {
   "interpreter": {
    "hash": "949777d72b0d2535278d3dc13498b2535136f6dfe0678499012e853ee9abcab1"
   }
  }
 },
 "nbformat": 4,
 "nbformat_minor": 2
}
