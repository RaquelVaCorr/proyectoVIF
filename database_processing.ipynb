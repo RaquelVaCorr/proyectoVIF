{
 "cells": [
  {
   "cell_type": "code",
   "execution_count": 48,
   "metadata": {},
   "outputs": [],
   "source": [
    "import pandas as pd\n",
    "import numpy as np\n",
    "import re\n",
    "import datetime"
   ]
  },
  {
   "attachments": {},
   "cell_type": "markdown",
   "metadata": {},
   "source": [
    "# Importar bases\n",
    "Delitos sexuales (ds), homicidios (homi) y vilencia intrafamiliar (VIF)"
   ]
  },
  {
   "cell_type": "code",
   "execution_count": 4,
   "metadata": {},
   "outputs": [
    {
     "name": "stderr",
     "output_type": "stream",
     "text": [
      "/tmp/ipykernel_389/1727000379.py:3: DtypeWarning: Columns (13,29,30) have mixed types. Specify dtype option on import or set low_memory=False.\n",
      "  vif = pd.read_csv(\"vif.csv\")\n"
     ]
    }
   ],
   "source": [
    "ds = pd.read_excel(\"ds.xlsx\")\n",
    "homi = pd.read_excel(\"homicidios.xlsx\")\n",
    "vif = pd.read_csv(\"vif.csv\")"
   ]
  },
  {
   "attachments": {},
   "cell_type": "markdown",
   "metadata": {},
   "source": [
    "# Procesamiento VIF\n",
    "\n",
    "- Remover el los registros sin cedula\n",
    "- Contar el número de casos por víctima teniendo encuenta el id de denuncia\n",
    "- Extraer en una base la primera o unica denuncia por víctima \n",
    "- Imputar datos en caso de registros faltantes si una persona tiene multiples registros"
   ]
  },
  {
   "cell_type": "code",
   "execution_count": 5,
   "metadata": {},
   "outputs": [
    {
     "name": "stdout",
     "output_type": "stream",
     "text": [
      "(77964, 39)\n",
      "(73302, 39)\n"
     ]
    }
   ],
   "source": [
    "## Remover el los registros sin cedula\n",
    "vif2 = vif.dropna(subset=['numero_documento'])\n",
    "print(vif.shape)\n",
    "print(vif2.shape)"
   ]
  },
  {
   "cell_type": "code",
   "execution_count": 6,
   "metadata": {},
   "outputs": [
    {
     "data": {
      "text/plain": [
       "Index(['Unnamed: 0', 'arma_medio', 'barrio_hecho', 'barrio_residencia', 'cai',\n",
       "       'codigo_barrio_hecho', 'codigo_barrio_residencia',\n",
       "       'codigo_comuna_hecho', 'codigo_comuna_residencia', 'comuna_hecho',\n",
       "       'comuna_residencia', 'conducta', 'conducta_especial',\n",
       "       'consecutivo_theta', 'cuadrante_hecho', 'departamento_policia',\n",
       "       'direccion', 'edad', 'estacion', 'estado_civil', 'fecha_denuncia',\n",
       "       'fecha_hecho', 'lugar', 'modalidad_1257', 'modalidad_294',\n",
       "       'nivel_academico', 'nombre_completo', 'numero_documento', 'ocupacion',\n",
       "       'otra_relacion_denunciado_victima', 'parentesco', 'punto_geografico',\n",
       "       'punto_plano', 'sede_receptora', 'sexo', 'telefono', 'testigo',\n",
       "       'zona_hecho', 'zona_residencia'],\n",
       "      dtype='object')"
      ]
     },
     "execution_count": 6,
     "metadata": {},
     "output_type": "execute_result"
    }
   ],
   "source": [
    "vif2.columns"
   ]
  },
  {
   "cell_type": "code",
   "execution_count": 7,
   "metadata": {},
   "outputs": [],
   "source": [
    "## Contar el número de casos por víctima teniendo encuenta el id de denuncia\n",
    "casos_vif = vif2.drop_duplicates(subset=['numero_documento', 'consecutivo_theta'], keep= 'last').groupby('numero_documento', as_index=False)['Unnamed: 0'].count()\n",
    "casos_vif.rename(columns={\"Unnamed: 0\": \"reincidencia\"}, inplace=True)"
   ]
  },
  {
   "cell_type": "code",
   "execution_count": 8,
   "metadata": {},
   "outputs": [
    {
     "data": {
      "text/plain": [
       "Index(['Unnamed: 0', 'arma_medio', 'barrio_hecho', 'barrio_residencia', 'cai',\n",
       "       'codigo_barrio_hecho', 'codigo_barrio_residencia',\n",
       "       'codigo_comuna_hecho', 'codigo_comuna_residencia', 'comuna_hecho',\n",
       "       'comuna_residencia', 'conducta', 'conducta_especial',\n",
       "       'consecutivo_theta', 'cuadrante_hecho', 'departamento_policia',\n",
       "       'direccion', 'edad', 'estacion', 'estado_civil', 'fecha_denuncia',\n",
       "       'fecha_hecho', 'lugar', 'modalidad_1257', 'modalidad_294',\n",
       "       'nivel_academico', 'nombre_completo', 'numero_documento', 'ocupacion',\n",
       "       'otra_relacion_denunciado_victima', 'parentesco', 'punto_geografico',\n",
       "       'punto_plano', 'sede_receptora', 'sexo', 'telefono', 'testigo',\n",
       "       'zona_hecho', 'zona_residencia'],\n",
       "      dtype='object')"
      ]
     },
     "execution_count": 8,
     "metadata": {},
     "output_type": "execute_result"
    }
   ],
   "source": [
    "## Extraer en una base la primera o unica denuncia por víctima\n",
    "primer_caso = vif2.sort_values('fecha_denuncia').drop_duplicates(subset=['numero_documento'], keep= 'first')\n",
    "primer_caso.columns"
   ]
  },
  {
   "cell_type": "code",
   "execution_count": 9,
   "metadata": {},
   "outputs": [],
   "source": [
    "primer_caso = primer_caso.merge(casos_vif, on='numero_documento', how='left')"
   ]
  },
  {
   "cell_type": "code",
   "execution_count": 10,
   "metadata": {},
   "outputs": [
    {
     "name": "stdout",
     "output_type": "stream",
     "text": [
      "parentesco         50192\n",
      "ocupacion          17305\n",
      "edad                   0\n",
      "testigo                0\n",
      "estado_civil         439\n",
      "arma_medio         57117\n",
      "modalidad_1257      4472\n",
      "modalidad_294       4472\n",
      "nivel_academico      541\n",
      "sexo                2404\n",
      "dtype: int64\n",
      "(60631, 40)\n"
     ]
    }
   ],
   "source": [
    "print(primer_caso[[\"parentesco\", \"ocupacion\", \"edad\", \"testigo\", \"estado_civil\", \"arma_medio\", \"modalidad_1257\", \"modalidad_294\",\"nivel_academico\", \"sexo\"]].isna().sum())\n",
    "print(primer_caso.shape)"
   ]
  },
  {
   "cell_type": "code",
   "execution_count": 11,
   "metadata": {},
   "outputs": [
    {
     "name": "stderr",
     "output_type": "stream",
     "text": [
      "/tmp/ipykernel_389/1701631397.py:3: FutureWarning: Indexing with multiple keys (implicitly converted to a tuple of keys) will be deprecated, use a list instead.\n",
      "  casos_vif_segunda = pd.merge(vif2, casos_vif[casos_vif[\"reincidencia\"]>1] , how ='inner', on =['numero_documento']).sort_values('fecha_denuncia').groupby('numero_documento', as_index=False)[\"numero_documento\",\"fecha_denuncia\",\"parentesco\", \"ocupacion\", \"edad\", \"testigo\", \"estado_civil\", \"arma_medio\", \"modalidad_1257\", \"modalidad_294\",\"nivel_academico\", \"sexo\"].nth(1)\n"
     ]
    }
   ],
   "source": [
    "##- Imputar datos en caso de registros faltantes si una persona tiene multiples registros\n",
    "#intentamos usar la segunda denuncia para la imputacion\n",
    "casos_vif_segunda = pd.merge(vif2, casos_vif[casos_vif[\"reincidencia\"]>1] , how ='inner', on =['numero_documento']).sort_values('fecha_denuncia').groupby('numero_documento', as_index=False)[\"numero_documento\",\"fecha_denuncia\",\"parentesco\", \"ocupacion\", \"edad\", \"testigo\", \"estado_civil\", \"arma_medio\", \"modalidad_1257\", \"modalidad_294\",\"nivel_academico\", \"sexo\"].nth(1)"
   ]
  },
  {
   "cell_type": "code",
   "execution_count": 45,
   "metadata": {},
   "outputs": [
    {
     "name": "stdout",
     "output_type": "stream",
     "text": [
      "parentesco_x       50192\n",
      "ocupacion          15995\n",
      "edad_x                 0\n",
      "testigo_x              0\n",
      "estado_civil       57112\n",
      "arma_medio             0\n",
      "modalidad_1257      3889\n",
      "modalidad_294       3889\n",
      "nivel_academico      480\n",
      "sexo                2004\n",
      "dtype: int64\n"
     ]
    }
   ],
   "source": [
    "#primer_caso[[\"numero_documento\",\"fecha_denuncia\",\"parentesco\", \"ocupacion\", \"edad\", \"testigo\", \"estado_civil\", \"arma_medio\", \"modalidad_1257\", \"modalidad_294\",\"nivel_academico\", \"sexo\"]]\n",
    "\n",
    "primer_caso_new = pd.merge(primer_caso, casos_vif_segunda, how=\"left\",  on =['numero_documento'])\n",
    "primer_caso_new.columns\n",
    "primer_caso_new['arma_medio'] = np.where(primer_caso_new['arma_medio_x'].isna(), \"Sin arma\",primer_caso_new['arma_medio_x'])\n",
    "primer_caso_new['estado_civil'] = np.where(primer_caso_new['estado_civil_x'].isna(), primer_caso_new['estado_civil_y'],primer_caso_new['arma_medio_x'])\n",
    "primer_caso_new['sexo'] = np.where(primer_caso_new['sexo_x'].isna(), primer_caso_new['sexo_y'],primer_caso_new['sexo_x'])\n",
    "primer_caso_new['modalidad_1257'] = np.where(primer_caso_new['modalidad_1257_x'].isna(), primer_caso_new['modalidad_1257_y'],primer_caso_new['modalidad_1257_x'])\n",
    "primer_caso_new['ocupacion'] = np.where(primer_caso_new['ocupacion_x'].isna(), primer_caso_new['ocupacion_y'],primer_caso_new['ocupacion_x'])\n",
    "primer_caso_new['nivel_academico'] = np.where(primer_caso_new['nivel_academico_x'].isna(), primer_caso_new['nivel_academico_y'],primer_caso_new['nivel_academico_x'])\n",
    "primer_caso_new['modalidad_294'] = np.where(primer_caso_new['modalidad_294_x'].isna(), primer_caso_new['modalidad_294_y'],primer_caso_new['modalidad_294_x'])\n",
    "\n",
    "print(primer_caso_new[[\"parentesco_x\", \"ocupacion\", \"edad_x\", \"testigo_x\", \"estado_civil\", \"arma_medio\", \"modalidad_1257\", \"modalidad_294\",\"nivel_academico\", \"sexo\"]].isna().sum())"
   ]
  },
  {
   "cell_type": "code",
   "execution_count": 46,
   "metadata": {},
   "outputs": [
    {
     "name": "stdout",
     "output_type": "stream",
     "text": [
      "Index(['numero_documento', 'fecha_denuncia', 'ocupacion', 'edad', 'testigo',\n",
      "       'arma_medio', 'modalidad_1257', 'modalidad_294', 'nivel_academico',\n",
      "       'sexo'],\n",
      "      dtype='object')\n"
     ]
    }
   ],
   "source": [
    "##subbase con las variables viables a trabajar\n",
    "primer_caso_new = primer_caso_new[[\"numero_documento\",\"fecha_denuncia_x\",\"ocupacion\", \"edad_x\", \"testigo_x\", \"arma_medio\", \"modalidad_1257\", \"modalidad_294\",\"nivel_academico\", \"sexo\"]]\n",
    "primer_caso_new.rename(columns={\"fecha_denuncia_x\": \"fecha_denuncia\", \"edad_x\": \"edad\", \"testigo_x\": \"testigo\"}, inplace=True)\n",
    "print(primer_caso_new.columns)"
   ]
  },
  {
   "attachments": {},
   "cell_type": "markdown",
   "metadata": {},
   "source": [
    "# Procesamiento ds y homicidio\n",
    "- Remover el los registros sin cedula"
   ]
  },
  {
   "cell_type": "code",
   "execution_count": 49,
   "metadata": {},
   "outputs": [],
   "source": [
    "homi = homi.dropna(subset=['numero_documento'])\n",
    "ds = ds.dropna(subset=['numero_documento'])\n",
    "ds[\"numero_documento\"]= ds[\"numero_documento\"].str.extract(pat='(\\d+)', expand=False).astype(int)"
   ]
  },
  {
   "attachments": {},
   "cell_type": "markdown",
   "metadata": {},
   "source": [
    "# Union de las bases de homicidio y ds con vif\n",
    "- Union de ds con vif teniendo en cuenta que solo contar los registros que tienen 7 dias o más de diferencia y que la base de vif puede tener id repetidos.\n",
    "- Union de homicidio con vif"
   ]
  },
  {
   "cell_type": "code",
   "execution_count": 54,
   "metadata": {},
   "outputs": [
    {
     "name": "stdout",
     "output_type": "stream",
     "text": [
      "(60631, 10)\n"
     ]
    },
    {
     "ename": "TypeError",
     "evalue": "unsupported operand type(s) for -: 'datetime.datetime' and 'str'",
     "output_type": "error",
     "traceback": [
      "\u001b[0;31m---------------------------------------------------------------------------\u001b[0m",
      "\u001b[0;31mTypeError\u001b[0m                                 Traceback (most recent call last)",
      "File \u001b[0;32m/usr/local/lib/python3.8/site-packages/pandas/core/ops/array_ops.py:165\u001b[0m, in \u001b[0;36m_na_arithmetic_op\u001b[0;34m(left, right, op, is_cmp)\u001b[0m\n\u001b[1;32m    164\u001b[0m \u001b[39mtry\u001b[39;00m:\n\u001b[0;32m--> 165\u001b[0m     result \u001b[39m=\u001b[39m func(left, right)\n\u001b[1;32m    166\u001b[0m \u001b[39mexcept\u001b[39;00m \u001b[39mTypeError\u001b[39;00m:\n",
      "File \u001b[0;32m/usr/local/lib/python3.8/site-packages/pandas/core/computation/expressions.py:241\u001b[0m, in \u001b[0;36mevaluate\u001b[0;34m(op, a, b, use_numexpr)\u001b[0m\n\u001b[1;32m    239\u001b[0m     \u001b[39mif\u001b[39;00m use_numexpr:\n\u001b[1;32m    240\u001b[0m         \u001b[39m# error: \"None\" not callable\u001b[39;00m\n\u001b[0;32m--> 241\u001b[0m         \u001b[39mreturn\u001b[39;00m _evaluate(op, op_str, a, b)  \u001b[39m# type: ignore[misc]\u001b[39;00m\n\u001b[1;32m    242\u001b[0m \u001b[39mreturn\u001b[39;00m _evaluate_standard(op, op_str, a, b)\n",
      "File \u001b[0;32m/usr/local/lib/python3.8/site-packages/pandas/core/computation/expressions.py:70\u001b[0m, in \u001b[0;36m_evaluate_standard\u001b[0;34m(op, op_str, a, b)\u001b[0m\n\u001b[1;32m     69\u001b[0m     _store_test_result(\u001b[39mFalse\u001b[39;00m)\n\u001b[0;32m---> 70\u001b[0m \u001b[39mreturn\u001b[39;00m op(a, b)\n",
      "\u001b[0;31mTypeError\u001b[0m: unsupported operand type(s) for -: 'float' and 'str'",
      "\nDuring handling of the above exception, another exception occurred:\n",
      "\u001b[0;31mTypeError\u001b[0m                                 Traceback (most recent call last)",
      "Cell \u001b[0;32mIn[54], line 3\u001b[0m\n\u001b[1;32m      1\u001b[0m \u001b[39mprint\u001b[39m(primer_caso_new\u001b[39m.\u001b[39mshape)\n\u001b[1;32m      2\u001b[0m primer_caso \u001b[39m=\u001b[39m pd\u001b[39m.\u001b[39mmerge(primer_caso_new, ds, how\u001b[39m=\u001b[39m\u001b[39m\"\u001b[39m\u001b[39mleft\u001b[39m\u001b[39m\"\u001b[39m,  on \u001b[39m=\u001b[39m[\u001b[39m'\u001b[39m\u001b[39mnumero_documento\u001b[39m\u001b[39m'\u001b[39m])\n\u001b[0;32m----> 3\u001b[0m primer_caso[\u001b[39m\"\u001b[39m\u001b[39mincluir_ds\u001b[39m\u001b[39m\"\u001b[39m] \u001b[39m=\u001b[39m np\u001b[39m.\u001b[39mwhere(\u001b[39mabs\u001b[39m(primer_caso[\u001b[39m'\u001b[39;49m\u001b[39mfecha_denuncia_y\u001b[39;49m\u001b[39m'\u001b[39;49m]\u001b[39m-\u001b[39;49m primer_caso[\u001b[39m'\u001b[39;49m\u001b[39mfecha_denuncia_x\u001b[39;49m\u001b[39m'\u001b[39;49m])\u001b[39m<\u001b[39m\u001b[39m=\u001b[39m\u001b[39m7\u001b[39m , \u001b[39m0\u001b[39m, \u001b[39m1\u001b[39m)\n",
      "File \u001b[0;32m/usr/local/lib/python3.8/site-packages/pandas/core/ops/common.py:72\u001b[0m, in \u001b[0;36m_unpack_zerodim_and_defer.<locals>.new_method\u001b[0;34m(self, other)\u001b[0m\n\u001b[1;32m     68\u001b[0m             \u001b[39mreturn\u001b[39;00m \u001b[39mNotImplemented\u001b[39m\n\u001b[1;32m     70\u001b[0m other \u001b[39m=\u001b[39m item_from_zerodim(other)\n\u001b[0;32m---> 72\u001b[0m \u001b[39mreturn\u001b[39;00m method(\u001b[39mself\u001b[39;49m, other)\n",
      "File \u001b[0;32m/usr/local/lib/python3.8/site-packages/pandas/core/arraylike.py:110\u001b[0m, in \u001b[0;36mOpsMixin.__sub__\u001b[0;34m(self, other)\u001b[0m\n\u001b[1;32m    108\u001b[0m \u001b[39m@unpack_zerodim_and_defer\u001b[39m(\u001b[39m\"\u001b[39m\u001b[39m__sub__\u001b[39m\u001b[39m\"\u001b[39m)\n\u001b[1;32m    109\u001b[0m \u001b[39mdef\u001b[39;00m \u001b[39m__sub__\u001b[39m(\u001b[39mself\u001b[39m, other):\n\u001b[0;32m--> 110\u001b[0m     \u001b[39mreturn\u001b[39;00m \u001b[39mself\u001b[39;49m\u001b[39m.\u001b[39;49m_arith_method(other, operator\u001b[39m.\u001b[39;49msub)\n",
      "File \u001b[0;32m/usr/local/lib/python3.8/site-packages/pandas/core/series.py:6259\u001b[0m, in \u001b[0;36mSeries._arith_method\u001b[0;34m(self, other, op)\u001b[0m\n\u001b[1;32m   6257\u001b[0m \u001b[39mdef\u001b[39;00m \u001b[39m_arith_method\u001b[39m(\u001b[39mself\u001b[39m, other, op):\n\u001b[1;32m   6258\u001b[0m     \u001b[39mself\u001b[39m, other \u001b[39m=\u001b[39m ops\u001b[39m.\u001b[39malign_method_SERIES(\u001b[39mself\u001b[39m, other)\n\u001b[0;32m-> 6259\u001b[0m     \u001b[39mreturn\u001b[39;00m base\u001b[39m.\u001b[39;49mIndexOpsMixin\u001b[39m.\u001b[39;49m_arith_method(\u001b[39mself\u001b[39;49m, other, op)\n",
      "File \u001b[0;32m/usr/local/lib/python3.8/site-packages/pandas/core/base.py:1325\u001b[0m, in \u001b[0;36mIndexOpsMixin._arith_method\u001b[0;34m(self, other, op)\u001b[0m\n\u001b[1;32m   1322\u001b[0m rvalues \u001b[39m=\u001b[39m ensure_wrapped_if_datetimelike(rvalues)\n\u001b[1;32m   1324\u001b[0m \u001b[39mwith\u001b[39;00m np\u001b[39m.\u001b[39merrstate(\u001b[39mall\u001b[39m\u001b[39m=\u001b[39m\u001b[39m\"\u001b[39m\u001b[39mignore\u001b[39m\u001b[39m\"\u001b[39m):\n\u001b[0;32m-> 1325\u001b[0m     result \u001b[39m=\u001b[39m ops\u001b[39m.\u001b[39;49marithmetic_op(lvalues, rvalues, op)\n\u001b[1;32m   1327\u001b[0m \u001b[39mreturn\u001b[39;00m \u001b[39mself\u001b[39m\u001b[39m.\u001b[39m_construct_result(result, name\u001b[39m=\u001b[39mres_name)\n",
      "File \u001b[0;32m/usr/local/lib/python3.8/site-packages/pandas/core/ops/array_ops.py:226\u001b[0m, in \u001b[0;36marithmetic_op\u001b[0;34m(left, right, op)\u001b[0m\n\u001b[1;32m    222\u001b[0m     _bool_arith_check(op, left, right)\n\u001b[1;32m    224\u001b[0m     \u001b[39m# error: Argument 1 to \"_na_arithmetic_op\" has incompatible type\u001b[39;00m\n\u001b[1;32m    225\u001b[0m     \u001b[39m# \"Union[ExtensionArray, ndarray[Any, Any]]\"; expected \"ndarray[Any, Any]\"\u001b[39;00m\n\u001b[0;32m--> 226\u001b[0m     res_values \u001b[39m=\u001b[39m _na_arithmetic_op(left, right, op)  \u001b[39m# type: ignore[arg-type]\u001b[39;00m\n\u001b[1;32m    228\u001b[0m \u001b[39mreturn\u001b[39;00m res_values\n",
      "File \u001b[0;32m/usr/local/lib/python3.8/site-packages/pandas/core/ops/array_ops.py:172\u001b[0m, in \u001b[0;36m_na_arithmetic_op\u001b[0;34m(left, right, op, is_cmp)\u001b[0m\n\u001b[1;32m    166\u001b[0m \u001b[39mexcept\u001b[39;00m \u001b[39mTypeError\u001b[39;00m:\n\u001b[1;32m    167\u001b[0m     \u001b[39mif\u001b[39;00m \u001b[39mnot\u001b[39;00m is_cmp \u001b[39mand\u001b[39;00m (is_object_dtype(left\u001b[39m.\u001b[39mdtype) \u001b[39mor\u001b[39;00m is_object_dtype(right)):\n\u001b[1;32m    168\u001b[0m         \u001b[39m# For object dtype, fallback to a masked operation (only operating\u001b[39;00m\n\u001b[1;32m    169\u001b[0m         \u001b[39m#  on the non-missing values)\u001b[39;00m\n\u001b[1;32m    170\u001b[0m         \u001b[39m# Don't do this for comparisons, as that will handle complex numbers\u001b[39;00m\n\u001b[1;32m    171\u001b[0m         \u001b[39m#  incorrectly, see GH#32047\u001b[39;00m\n\u001b[0;32m--> 172\u001b[0m         result \u001b[39m=\u001b[39m _masked_arith_op(left, right, op)\n\u001b[1;32m    173\u001b[0m     \u001b[39melse\u001b[39;00m:\n\u001b[1;32m    174\u001b[0m         \u001b[39mraise\u001b[39;00m\n",
      "File \u001b[0;32m/usr/local/lib/python3.8/site-packages/pandas/core/ops/array_ops.py:110\u001b[0m, in \u001b[0;36m_masked_arith_op\u001b[0;34m(x, y, op)\u001b[0m\n\u001b[1;32m    108\u001b[0m     \u001b[39m# See GH#5284, GH#5035, GH#19448 for historical reference\u001b[39;00m\n\u001b[1;32m    109\u001b[0m     \u001b[39mif\u001b[39;00m mask\u001b[39m.\u001b[39many():\n\u001b[0;32m--> 110\u001b[0m         result[mask] \u001b[39m=\u001b[39m op(xrav[mask], yrav[mask])\n\u001b[1;32m    112\u001b[0m \u001b[39melse\u001b[39;00m:\n\u001b[1;32m    113\u001b[0m     \u001b[39mif\u001b[39;00m \u001b[39mnot\u001b[39;00m is_scalar(y):\n",
      "\u001b[0;31mTypeError\u001b[0m: unsupported operand type(s) for -: 'datetime.datetime' and 'str'"
     ]
    }
   ],
   "source": [
    "print(primer_caso_new.shape)\n",
    "primer_caso = pd.merge(primer_caso_new, ds, how=\"left\",  on =['numero_documento'])\n",
    "primer_caso[\"incluir_ds\"] = np.where(abs(primer_caso['fecha_denuncia_y']- primer_caso['fecha_denuncia_x'])<=7 , 0, 1)"
   ]
  },
  {
   "cell_type": "code",
   "execution_count": 52,
   "metadata": {},
   "outputs": [
    {
     "name": "stdout",
     "output_type": "stream",
     "text": [
      "(60641, 111)\n"
     ]
    }
   ],
   "source": [
    "primer_caso[\"fecha_denuncia_y\"]"
   ]
  },
  {
   "cell_type": "code",
   "execution_count": 53,
   "metadata": {},
   "outputs": [
    {
     "data": {
      "text/plain": [
       "1"
      ]
     },
     "execution_count": 53,
     "metadata": {},
     "output_type": "execute_result"
    }
   ],
   "source": [
    "abs(8-9)"
   ]
  },
  {
   "attachments": {},
   "cell_type": "markdown",
   "metadata": {},
   "source": []
  }
 ],
 "metadata": {
  "kernelspec": {
   "display_name": "Python 3",
   "language": "python",
   "name": "python3"
  },
  "language_info": {
   "codemirror_mode": {
    "name": "ipython",
    "version": 3
   },
   "file_extension": ".py",
   "mimetype": "text/x-python",
   "name": "python",
   "nbconvert_exporter": "python",
   "pygments_lexer": "ipython3",
   "version": "3.8.16"
  },
  "orig_nbformat": 4,
  "vscode": {
   "interpreter": {
    "hash": "949777d72b0d2535278d3dc13498b2535136f6dfe0678499012e853ee9abcab1"
   }
  }
 },
 "nbformat": 4,
 "nbformat_minor": 2
}
