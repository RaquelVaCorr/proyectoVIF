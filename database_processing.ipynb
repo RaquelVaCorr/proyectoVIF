{
 "cells": [
  {
   "cell_type": "code",
   "execution_count": 188,
   "metadata": {},
   "outputs": [],
   "source": [
    "import pandas as pd\n",
    "import numpy as np\n",
    "import re\n",
    "import datetime as dt"
   ]
  },
  {
   "attachments": {},
   "cell_type": "markdown",
   "metadata": {},
   "source": [
    "# Importar bases\n",
    "Delitos sexuales (ds), homicidios (homi) y vilencia intrafamiliar (VIF)"
   ]
  },
  {
   "cell_type": "code",
   "execution_count": 189,
   "metadata": {},
   "outputs": [
    {
     "name": "stderr",
     "output_type": "stream",
     "text": [
      "/tmp/ipykernel_389/1727000379.py:3: DtypeWarning: Columns (13,29,30) have mixed types. Specify dtype option on import or set low_memory=False.\n",
      "  vif = pd.read_csv(\"vif.csv\")\n"
     ]
    }
   ],
   "source": [
    "ds = pd.read_excel(\"ds.xlsx\")\n",
    "homi = pd.read_excel(\"homicidios.xlsx\")\n",
    "vif = pd.read_csv(\"vif.csv\")"
   ]
  },
  {
   "attachments": {},
   "cell_type": "markdown",
   "metadata": {},
   "source": [
    "# Procesamiento VIF\n",
    "\n",
    "- Remover el los registros sin cedula\n",
    "- Contar el número de casos por víctima teniendo encuenta el id de denuncia\n",
    "- Extraer en una base la primera o unica denuncia por víctima \n",
    "- Imputar datos en caso de registros faltantes si una persona tiene multiples registros"
   ]
  },
  {
   "cell_type": "code",
   "execution_count": 190,
   "metadata": {},
   "outputs": [
    {
     "name": "stdout",
     "output_type": "stream",
     "text": [
      "(77964, 39)\n",
      "(73302, 39)\n"
     ]
    }
   ],
   "source": [
    "## Remover el los registros sin cedula\n",
    "vif2 = vif.dropna(subset=['numero_documento'])\n",
    "print(vif.shape)\n",
    "print(vif2.shape)"
   ]
  },
  {
   "cell_type": "code",
   "execution_count": 191,
   "metadata": {},
   "outputs": [
    {
     "data": {
      "text/plain": [
       "Index(['Unnamed: 0', 'arma_medio', 'barrio_hecho', 'barrio_residencia', 'cai',\n",
       "       'codigo_barrio_hecho', 'codigo_barrio_residencia',\n",
       "       'codigo_comuna_hecho', 'codigo_comuna_residencia', 'comuna_hecho',\n",
       "       'comuna_residencia', 'conducta', 'conducta_especial',\n",
       "       'consecutivo_theta', 'cuadrante_hecho', 'departamento_policia',\n",
       "       'direccion', 'edad', 'estacion', 'estado_civil', 'fecha_denuncia',\n",
       "       'fecha_hecho', 'lugar', 'modalidad_1257', 'modalidad_294',\n",
       "       'nivel_academico', 'nombre_completo', 'numero_documento', 'ocupacion',\n",
       "       'otra_relacion_denunciado_victima', 'parentesco', 'punto_geografico',\n",
       "       'punto_plano', 'sede_receptora', 'sexo', 'telefono', 'testigo',\n",
       "       'zona_hecho', 'zona_residencia'],\n",
       "      dtype='object')"
      ]
     },
     "execution_count": 191,
     "metadata": {},
     "output_type": "execute_result"
    }
   ],
   "source": [
    "vif2.columns"
   ]
  },
  {
   "cell_type": "code",
   "execution_count": 192,
   "metadata": {},
   "outputs": [],
   "source": [
    "## Contar el número de casos por víctima teniendo encuenta el id de denuncia\n",
    "casos_vif = vif2.drop_duplicates(subset=['numero_documento', 'consecutivo_theta'], keep= 'last').groupby('numero_documento', as_index=False)['Unnamed: 0'].count()\n",
    "casos_vif.rename(columns={\"Unnamed: 0\": \"reincidencia\"}, inplace=True)"
   ]
  },
  {
   "cell_type": "code",
   "execution_count": 193,
   "metadata": {},
   "outputs": [
    {
     "data": {
      "text/plain": [
       "Index(['Unnamed: 0', 'arma_medio', 'barrio_hecho', 'barrio_residencia', 'cai',\n",
       "       'codigo_barrio_hecho', 'codigo_barrio_residencia',\n",
       "       'codigo_comuna_hecho', 'codigo_comuna_residencia', 'comuna_hecho',\n",
       "       'comuna_residencia', 'conducta', 'conducta_especial',\n",
       "       'consecutivo_theta', 'cuadrante_hecho', 'departamento_policia',\n",
       "       'direccion', 'edad', 'estacion', 'estado_civil', 'fecha_denuncia',\n",
       "       'fecha_hecho', 'lugar', 'modalidad_1257', 'modalidad_294',\n",
       "       'nivel_academico', 'nombre_completo', 'numero_documento', 'ocupacion',\n",
       "       'otra_relacion_denunciado_victima', 'parentesco', 'punto_geografico',\n",
       "       'punto_plano', 'sede_receptora', 'sexo', 'telefono', 'testigo',\n",
       "       'zona_hecho', 'zona_residencia'],\n",
       "      dtype='object')"
      ]
     },
     "execution_count": 193,
     "metadata": {},
     "output_type": "execute_result"
    }
   ],
   "source": [
    "## Extraer en una base la primera o unica denuncia por víctima\n",
    "primer_caso = vif2.sort_values('fecha_denuncia').drop_duplicates(subset=['numero_documento'], keep= 'first')\n",
    "primer_caso.columns"
   ]
  },
  {
   "cell_type": "code",
   "execution_count": 194,
   "metadata": {},
   "outputs": [],
   "source": [
    "primer_caso = primer_caso.merge(casos_vif, on='numero_documento', how='left')"
   ]
  },
  {
   "cell_type": "code",
   "execution_count": 195,
   "metadata": {},
   "outputs": [
    {
     "name": "stdout",
     "output_type": "stream",
     "text": [
      "parentesco         50192\n",
      "ocupacion          17305\n",
      "edad                   0\n",
      "testigo                0\n",
      "estado_civil         439\n",
      "arma_medio         57117\n",
      "modalidad_1257      4472\n",
      "modalidad_294       4472\n",
      "nivel_academico      541\n",
      "sexo                2404\n",
      "dtype: int64\n",
      "(60631, 40)\n"
     ]
    }
   ],
   "source": [
    "print(primer_caso[[\"parentesco\", \"ocupacion\", \"edad\", \"testigo\", \"estado_civil\", \"arma_medio\", \"modalidad_1257\", \"modalidad_294\",\"nivel_academico\", \"sexo\"]].isna().sum())\n",
    "print(primer_caso.shape)"
   ]
  },
  {
   "cell_type": "code",
   "execution_count": 196,
   "metadata": {},
   "outputs": [
    {
     "name": "stderr",
     "output_type": "stream",
     "text": [
      "/tmp/ipykernel_389/1701631397.py:3: FutureWarning: Indexing with multiple keys (implicitly converted to a tuple of keys) will be deprecated, use a list instead.\n",
      "  casos_vif_segunda = pd.merge(vif2, casos_vif[casos_vif[\"reincidencia\"]>1] , how ='inner', on =['numero_documento']).sort_values('fecha_denuncia').groupby('numero_documento', as_index=False)[\"numero_documento\",\"fecha_denuncia\",\"parentesco\", \"ocupacion\", \"edad\", \"testigo\", \"estado_civil\", \"arma_medio\", \"modalidad_1257\", \"modalidad_294\",\"nivel_academico\", \"sexo\"].nth(1)\n"
     ]
    }
   ],
   "source": [
    "##- Imputar datos en caso de registros faltantes si una persona tiene multiples registros\n",
    "#intentamos usar la segunda denuncia para la imputacion\n",
    "casos_vif_segunda = pd.merge(vif2, casos_vif[casos_vif[\"reincidencia\"]>1] , how ='inner', on =['numero_documento']).sort_values('fecha_denuncia').groupby('numero_documento', as_index=False)[\"numero_documento\",\"fecha_denuncia\",\"parentesco\", \"ocupacion\", \"edad\", \"testigo\", \"estado_civil\", \"arma_medio\", \"modalidad_1257\", \"modalidad_294\",\"nivel_academico\", \"sexo\"].nth(1)"
   ]
  },
  {
   "cell_type": "code",
   "execution_count": 197,
   "metadata": {},
   "outputs": [
    {
     "name": "stdout",
     "output_type": "stream",
     "text": [
      "parentesco_x       50192\n",
      "ocupacion          15995\n",
      "edad_x                 0\n",
      "testigo_x              0\n",
      "estado_civil       57112\n",
      "arma_medio             0\n",
      "modalidad_1257      3889\n",
      "modalidad_294       3889\n",
      "nivel_academico      480\n",
      "sexo                2004\n",
      "dtype: int64\n"
     ]
    }
   ],
   "source": [
    "#primer_caso[[\"numero_documento\",\"fecha_denuncia\",\"parentesco\", \"ocupacion\", \"edad\", \"testigo\", \"estado_civil\", \"arma_medio\", \"modalidad_1257\", \"modalidad_294\",\"nivel_academico\", \"sexo\"]]\n",
    "\n",
    "primer_caso_new = pd.merge(primer_caso, casos_vif_segunda, how=\"left\",  on =['numero_documento'])\n",
    "primer_caso_new.columns\n",
    "primer_caso_new['arma_medio'] = np.where(primer_caso_new['arma_medio_x'].isna(), \"Sin arma\",primer_caso_new['arma_medio_x'])\n",
    "primer_caso_new['estado_civil'] = np.where(primer_caso_new['estado_civil_x'].isna(), primer_caso_new['estado_civil_y'],primer_caso_new['arma_medio_x'])\n",
    "primer_caso_new['sexo'] = np.where(primer_caso_new['sexo_x'].isna(), primer_caso_new['sexo_y'],primer_caso_new['sexo_x'])\n",
    "primer_caso_new['modalidad_1257'] = np.where(primer_caso_new['modalidad_1257_x'].isna(), primer_caso_new['modalidad_1257_y'],primer_caso_new['modalidad_1257_x'])\n",
    "primer_caso_new['ocupacion'] = np.where(primer_caso_new['ocupacion_x'].isna(), primer_caso_new['ocupacion_y'],primer_caso_new['ocupacion_x'])\n",
    "primer_caso_new['nivel_academico'] = np.where(primer_caso_new['nivel_academico_x'].isna(), primer_caso_new['nivel_academico_y'],primer_caso_new['nivel_academico_x'])\n",
    "primer_caso_new['modalidad_294'] = np.where(primer_caso_new['modalidad_294_x'].isna(), primer_caso_new['modalidad_294_y'],primer_caso_new['modalidad_294_x'])\n",
    "\n",
    "print(primer_caso_new[[\"parentesco_x\", \"ocupacion\", \"edad_x\", \"testigo_x\", \"estado_civil\", \"arma_medio\", \"modalidad_1257\", \"modalidad_294\",\"nivel_academico\", \"sexo\"]].isna().sum())"
   ]
  },
  {
   "cell_type": "code",
   "execution_count": 198,
   "metadata": {},
   "outputs": [
    {
     "name": "stdout",
     "output_type": "stream",
     "text": [
      "Index(['numero_documento', 'fecha_denuncia', 'ocupacion', 'edad', 'testigo',\n",
      "       'arma_medio', 'modalidad_1257', 'modalidad_294', 'nivel_academico',\n",
      "       'sexo', 'reincidencia'],\n",
      "      dtype='object')\n"
     ]
    }
   ],
   "source": [
    "##subbase con las variables viables a trabajar\n",
    "primer_caso_new = primer_caso_new[[\"numero_documento\",\"fecha_denuncia_x\",\"ocupacion\", \"edad_x\", \"testigo_x\", \"arma_medio\", \"modalidad_1257\", \"modalidad_294\",\"nivel_academico\", \"sexo\", \"reincidencia\"]]\n",
    "primer_caso_new.rename(columns={\"fecha_denuncia_x\": \"fecha_denuncia\", \"edad_x\": \"edad\", \"testigo_x\": \"testigo\"}, inplace=True)\n",
    "print(primer_caso_new.columns)"
   ]
  },
  {
   "cell_type": "code",
   "execution_count": 199,
   "metadata": {},
   "outputs": [
    {
     "data": {
      "text/plain": [
       "0        2004-10-26\n",
       "1        2004-10-26\n",
       "2        2004-10-27\n",
       "3        2004-10-27\n",
       "4        2004-10-29\n",
       "            ...    \n",
       "60626    2019-09-27\n",
       "60627    2019-09-27\n",
       "60628    2019-09-27\n",
       "60629    2019-09-27\n",
       "60630    2019-09-27\n",
       "Name: fecha_denuncia, Length: 60631, dtype: object"
      ]
     },
     "execution_count": 199,
     "metadata": {},
     "output_type": "execute_result"
    }
   ],
   "source": [
    "primer_caso_new[\"fecha_denuncia\"]"
   ]
  },
  {
   "cell_type": "code",
   "execution_count": 200,
   "metadata": {},
   "outputs": [],
   "source": [
    "primer_caso_new[\"fecha_denuncia\"] =pd.to_datetime(primer_caso_new[\"fecha_denuncia\"], format= '%Y-%m-%d')"
   ]
  },
  {
   "attachments": {},
   "cell_type": "markdown",
   "metadata": {},
   "source": [
    "# Procesamiento ds y homicidio\n",
    "- Remover el los registros sin cedula\n",
    "- Cambiar el formato de la varible \"numero_documento\""
   ]
  },
  {
   "cell_type": "code",
   "execution_count": 201,
   "metadata": {},
   "outputs": [],
   "source": [
    "homi = homi.dropna(subset=['numero_documento'])\n",
    "homi[\"numero_documento\"]= homi[\"numero_documento\"].str.extract(pat='(\\d+)', expand=False).astype(int)\n",
    "ds = ds.dropna(subset=['numero_documento'])\n",
    "ds[\"numero_documento\"]= ds[\"numero_documento\"].str.extract(pat='(\\d+)', expand=False).astype(int)\n"
   ]
  },
  {
   "attachments": {},
   "cell_type": "markdown",
   "metadata": {},
   "source": [
    "# Union de las bases de homicidio y ds con vif\n",
    "- Union de ds con vif teniendo en cuenta que solo contar los registros que tienen 7 dias o más de diferencia y que la base de vif puede tener id repetidos.\n",
    "- Union de homicidio con vif"
   ]
  },
  {
   "cell_type": "code",
   "execution_count": 202,
   "metadata": {},
   "outputs": [
    {
     "name": "stdout",
     "output_type": "stream",
     "text": [
      "(60631, 11)\n"
     ]
    },
    {
     "data": {
      "text/plain": [
       "(60631, 12)"
      ]
     },
     "execution_count": 202,
     "metadata": {},
     "output_type": "execute_result"
    }
   ],
   "source": [
    "#union con ds\n",
    "print(primer_caso_new.shape)\n",
    "primer_caso = pd.merge(primer_caso_new, ds, how=\"left\",  on =['numero_documento'])\n",
    "primer_caso[\"incluir_ds\"] = np.where(abs(((pd.to_datetime(primer_caso['fecha_denuncia_y'])- primer_caso['fecha_denuncia_x']).dt.days)<=7)| primer_caso['fecha_denuncia_y'].isna() , 0, 1)\n",
    "primer_caso = primer_caso.groupby(\"numero_documento\", as_index=False)[\"incluir_ds\"].sum()\n",
    "primer_caso_new = pd.merge(primer_caso_new, primer_caso, how=\"left\",  on =['numero_documento'])\n",
    "primer_caso_new.shape"
   ]
  },
  {
   "cell_type": "code",
   "execution_count": 203,
   "metadata": {},
   "outputs": [
    {
     "data": {
      "text/plain": [
       "incluir_ds\n",
       "0    60418\n",
       "1      206\n",
       "2        6\n",
       "3        1\n",
       "Name: incluir_ds, dtype: int64"
      ]
     },
     "execution_count": 203,
     "metadata": {},
     "output_type": "execute_result"
    }
   ],
   "source": [
    "primer_caso.groupby(\"incluir_ds\")[\"incluir_ds\"].count()"
   ]
  },
  {
   "cell_type": "code",
   "execution_count": 204,
   "metadata": {},
   "outputs": [
    {
     "data": {
      "text/plain": [
       "(60631, 13)"
      ]
     },
     "execution_count": 204,
     "metadata": {},
     "output_type": "execute_result"
    }
   ],
   "source": [
    "#union con homi\n",
    "primer_caso_new = pd.merge(primer_caso_new, homi[[\"numero_documento\", \"Index\"]], how=\"left\",  on =['numero_documento'])\n",
    "primer_caso_new.shape"
   ]
  },
  {
   "cell_type": "code",
   "execution_count": 205,
   "metadata": {},
   "outputs": [
    {
     "data": {
      "text/plain": [
       "Index(['numero_documento', 'fecha_denuncia', 'ocupacion', 'edad', 'testigo',\n",
       "       'arma_medio', 'modalidad_1257', 'modalidad_294', 'nivel_academico',\n",
       "       'sexo', 'reincidencia', 'incluir_ds', 'Index'],\n",
       "      dtype='object')"
      ]
     },
     "execution_count": 205,
     "metadata": {},
     "output_type": "execute_result"
    }
   ],
   "source": [
    "primer_caso_new.columns"
   ]
  },
  {
   "cell_type": "code",
   "execution_count": 206,
   "metadata": {},
   "outputs": [],
   "source": [
    "#base final\n",
    "primer_caso_new[\"reincidente\"] = np.where((primer_caso_new['incluir_ds'] <=0) & (primer_caso_new['reincidencia']<=1) & (primer_caso_new['Index'].isna()), 0, 1)"
   ]
  },
  {
   "cell_type": "code",
   "execution_count": 207,
   "metadata": {},
   "outputs": [
    {
     "data": {
      "text/plain": [
       "reincidente\n",
       "0    52054\n",
       "1     8577\n",
       "Name: reincidente, dtype: int64"
      ]
     },
     "execution_count": 207,
     "metadata": {},
     "output_type": "execute_result"
    }
   ],
   "source": [
    "primer_caso_new.groupby(\"reincidente\")[\"reincidente\"].count()"
   ]
  },
  {
   "cell_type": "code",
   "execution_count": 184,
   "metadata": {},
   "outputs": [
    {
     "data": {
      "text/plain": [
       "60631"
      ]
     },
     "execution_count": 184,
     "metadata": {},
     "output_type": "execute_result"
    }
   ],
   "source": []
  },
  {
   "attachments": {},
   "cell_type": "markdown",
   "metadata": {},
   "source": []
  }
 ],
 "metadata": {
  "kernelspec": {
   "display_name": "Python 3",
   "language": "python",
   "name": "python3"
  },
  "language_info": {
   "codemirror_mode": {
    "name": "ipython",
    "version": 3
   },
   "file_extension": ".py",
   "mimetype": "text/x-python",
   "name": "python",
   "nbconvert_exporter": "python",
   "pygments_lexer": "ipython3",
   "version": "3.8.16"
  },
  "orig_nbformat": 4,
  "vscode": {
   "interpreter": {
    "hash": "949777d72b0d2535278d3dc13498b2535136f6dfe0678499012e853ee9abcab1"
   }
  }
 },
 "nbformat": 4,
 "nbformat_minor": 2
}
