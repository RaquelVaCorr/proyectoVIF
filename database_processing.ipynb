{
 "cells": [
  {
   "cell_type": "code",
   "execution_count": 2,
   "metadata": {},
   "outputs": [],
   "source": [
    "import pandas as pd\n",
    "import numpy as np\n",
    "import re\n",
    "import datetime as dt"
   ]
  },
  {
   "attachments": {},
   "cell_type": "markdown",
   "metadata": {},
   "source": [
    "# Importar bases\n",
    "Delitos sexuales (ds), homicidios (homi) y vilencia intrafamiliar (VIF)"
   ]
  },
  {
   "cell_type": "code",
   "execution_count": 3,
   "metadata": {},
   "outputs": [],
   "source": [
    "ds = pd.read_excel(\"ds.xlsx\")\n",
    "homi = pd.read_excel(\"homicidios.xlsx\")\n",
    "vif = pd.read_excel(\"vif.xlsx\")"
   ]
  },
  {
   "attachments": {},
   "cell_type": "markdown",
   "metadata": {},
   "source": [
    "# Procesamiento VIF\n",
    "\n",
    "- Remover el los registros sin cedula\n",
    "- Contar el número de casos por víctima teniendo encuenta el id de denuncia\n",
    "- Extraer en una base la primera o unica denuncia por víctima \n",
    "- Imputar datos en caso de registros faltantes si una persona tiene multiples registros"
   ]
  },
  {
   "cell_type": "code",
   "execution_count": 4,
   "metadata": {},
   "outputs": [],
   "source": [
    "vif.shape\n",
    "###cambiar los sin dato por NA\n",
    "vif = vif.replace(\"Sin dato\", np.nan)\n",
    "vif = vif.replace(\"SIN DATO\", np.nan)"
   ]
  },
  {
   "cell_type": "code",
   "execution_count": 5,
   "metadata": {},
   "outputs": [
    {
     "name": "stdout",
     "output_type": "stream",
     "text": [
      "(67878, 61)\n",
      "(37084, 62)\n"
     ]
    }
   ],
   "source": [
    "## Remover el los registros sin cedula\n",
    "cedulas_malas =[ \"#0\", \"#0.0\", \"#1\", \"#1.0\", \"#999999.0\", \"#99999999\", \"#9999999999\", \"#43\", \"#1034\", \"#11111.0\", \"#11111111.0\", \"#1111\", \"#111111.0\", \"#1111111\", \"#11111111.0\", \"#1111111.0\"]\n",
    "vif = vif[~vif['num_documento'].isin(cedulas_malas)]\n",
    "#vif2 = vif.query('num_documento != \"SIN DATO\"')\n",
    "vif2 = vif.dropna(subset=[\"num_documento\"])\n",
    "vif2 = vif2.dropna(subset=[\"consecutivo_theta\"])\n",
    "vif2[\"numero_documento\"]= vif2[\"num_documento\"].str.extract(pat='(\\d+)', expand=False).astype(int)\n",
    "print(vif.shape)\n",
    "print(vif2.shape)"
   ]
  },
  {
   "cell_type": "code",
   "execution_count": 6,
   "metadata": {},
   "outputs": [],
   "source": [
    "## Contar el número de casos por víctima teniendo encuenta el id de denuncia\n",
    "casos_vif = vif2.drop_duplicates(subset=['numero_documento', 'consecutivo_theta'], keep= 'last').groupby('numero_documento', as_index=False)['consecutivo_theta'].count()\n",
    "casos_vif.rename(columns={\"consecutivo_theta\": \"reincidencia\"}, inplace=True)"
   ]
  },
  {
   "cell_type": "code",
   "execution_count": 7,
   "metadata": {},
   "outputs": [
    {
     "data": {
      "text/html": [
       "<div>\n",
       "<style scoped>\n",
       "    .dataframe tbody tr th:only-of-type {\n",
       "        vertical-align: middle;\n",
       "    }\n",
       "\n",
       "    .dataframe tbody tr th {\n",
       "        vertical-align: top;\n",
       "    }\n",
       "\n",
       "    .dataframe thead th {\n",
       "        text-align: right;\n",
       "    }\n",
       "</style>\n",
       "<table border=\"1\" class=\"dataframe\">\n",
       "  <thead>\n",
       "    <tr style=\"text-align: right;\">\n",
       "      <th></th>\n",
       "      <th>numero_documento</th>\n",
       "    </tr>\n",
       "    <tr>\n",
       "      <th>reincidencia</th>\n",
       "      <th></th>\n",
       "    </tr>\n",
       "  </thead>\n",
       "  <tbody>\n",
       "    <tr>\n",
       "      <th>1</th>\n",
       "      <td>31914</td>\n",
       "    </tr>\n",
       "    <tr>\n",
       "      <th>2</th>\n",
       "      <td>2128</td>\n",
       "    </tr>\n",
       "    <tr>\n",
       "      <th>3</th>\n",
       "      <td>242</td>\n",
       "    </tr>\n",
       "    <tr>\n",
       "      <th>4</th>\n",
       "      <td>36</td>\n",
       "    </tr>\n",
       "    <tr>\n",
       "      <th>5</th>\n",
       "      <td>3</td>\n",
       "    </tr>\n",
       "    <tr>\n",
       "      <th>6</th>\n",
       "      <td>2</td>\n",
       "    </tr>\n",
       "    <tr>\n",
       "      <th>8</th>\n",
       "      <td>1</td>\n",
       "    </tr>\n",
       "  </tbody>\n",
       "</table>\n",
       "</div>"
      ],
      "text/plain": [
       "              numero_documento\n",
       "reincidencia                  \n",
       "1                        31914\n",
       "2                         2128\n",
       "3                          242\n",
       "4                           36\n",
       "5                            3\n",
       "6                            2\n",
       "8                            1"
      ]
     },
     "execution_count": 7,
     "metadata": {},
     "output_type": "execute_result"
    }
   ],
   "source": [
    "casos_vif.groupby(\"reincidencia\").count()"
   ]
  },
  {
   "cell_type": "code",
   "execution_count": 8,
   "metadata": {},
   "outputs": [
    {
     "data": {
      "text/plain": [
       "Index(['apellido_victima', 'consecutivo_theta', 'fc_denuncia', 'fecha_hecho',\n",
       "       'dia', 'mes', 'anio_x', 'hora', 'fl_testigo', 'arma_medio',\n",
       "       'barrio_residencia', 'codigo_barrio_residencia', 'comuna_residencia',\n",
       "       'codigo_comuna_residencia', 'conducta_especial', 'estado_civil',\n",
       "       'lugar', 'id_grupo_lugar', 'publico_lugar', 'grupo_lugar',\n",
       "       'nivel_academico', 'ocupacion', 'ocupacion_vulnerable',\n",
       "       'sede_receptora', 'id_grupo_sede_receptora', 'grupo_sede_receptora',\n",
       "       'sexo', 'nombre_victima', 'num_documento', 'num_edad', 'tipo_violencia',\n",
       "       'direccion_hecho', 'barrio', 'codigo_barrio_sisc', 'comuna',\n",
       "       'codigo_comuna_sisc', 'geo_lat', 'geo_lon', 'plana_x', 'plana_y',\n",
       "       'rango_edad_pisc', 'rango_edad', 'cd_stage_x', 'barrio_hecho',\n",
       "       'codigo_barrio_hecho', 'comuna_hecho', 'codigo_comuna_hecho',\n",
       "       'cuadrante', 'jornada', 'conducta', 'fc_actualizacion_x',\n",
       "       'modalidad_1257', 'modalidad_294', 'base_origen', 'pais_nace',\n",
       "       'cantidad', 'id', 'relato', 'anio_y', 'cd_stage_y',\n",
       "       'fc_actualizacion_y', 'numero_documento'],\n",
       "      dtype='object')"
      ]
     },
     "execution_count": 8,
     "metadata": {},
     "output_type": "execute_result"
    }
   ],
   "source": [
    "## Extraer en una base la primera o unica denuncia por víctima\n",
    "primer_caso = vif2.sort_values('fc_denuncia').drop_duplicates(subset=['numero_documento'], keep= 'first')\n",
    "primer_caso.columns"
   ]
  },
  {
   "cell_type": "code",
   "execution_count": 9,
   "metadata": {},
   "outputs": [],
   "source": [
    "primer_caso = primer_caso.merge(casos_vif, on='numero_documento', how='left')"
   ]
  },
  {
   "cell_type": "code",
   "execution_count": 10,
   "metadata": {},
   "outputs": [
    {
     "name": "stdout",
     "output_type": "stream",
     "text": [
      "tipo_violencia     34326\n",
      "ocupacion           8147\n",
      "num_edad               0\n",
      "fl_testigo             0\n",
      "estado_civil        1833\n",
      "arma_medio         32181\n",
      "modalidad_1257      1737\n",
      "modalidad_294       1737\n",
      "nivel_academico     3199\n",
      "sexo                   0\n",
      "relato              6799\n",
      "dtype: int64\n",
      "(34326, 63)\n"
     ]
    }
   ],
   "source": [
    "print(primer_caso[[\"tipo_violencia\", \"ocupacion\", \"num_edad\", \"fl_testigo\", \"estado_civil\", \"arma_medio\", \"modalidad_1257\", \"modalidad_294\",\"nivel_academico\", \"sexo\", \"relato\"]].isna().sum())\n",
    "print(primer_caso.shape)"
   ]
  },
  {
   "cell_type": "code",
   "execution_count": 11,
   "metadata": {},
   "outputs": [
    {
     "name": "stderr",
     "output_type": "stream",
     "text": [
      "/tmp/ipykernel_4095/172054366.py:3: FutureWarning: Indexing with multiple keys (implicitly converted to a tuple of keys) will be deprecated, use a list instead.\n",
      "  casos_vif_segunda = pd.merge(vif2, casos_vif[casos_vif[\"reincidencia\"]>1] , how ='inner', on =['numero_documento']).sort_values('fc_denuncia').groupby('numero_documento', as_index=False)[\"numero_documento\",\"fc_denuncia\", \"ocupacion\", \"num_edad\", \"fl_testigo\", \"estado_civil\", \"arma_medio\", \"modalidad_1257\", \"modalidad_294\",\"nivel_academico\", \"sexo\", \"relato\"].nth(1)\n"
     ]
    }
   ],
   "source": [
    "##- Imputar datos en caso de registros faltantes si una persona tiene multiples registros\n",
    "#intentamos usar la segunda denuncia para la imputacion\n",
    "casos_vif_segunda = pd.merge(vif2, casos_vif[casos_vif[\"reincidencia\"]>1] , how ='inner', on =['numero_documento']).sort_values('fc_denuncia').groupby('numero_documento', as_index=False)[\"numero_documento\",\"fc_denuncia\", \"ocupacion\", \"num_edad\", \"fl_testigo\", \"estado_civil\", \"arma_medio\", \"modalidad_1257\", \"modalidad_294\",\"nivel_academico\", \"sexo\", \"relato\"].nth(1)"
   ]
  },
  {
   "cell_type": "code",
   "execution_count": 12,
   "metadata": {},
   "outputs": [
    {
     "name": "stdout",
     "output_type": "stream",
     "text": [
      "ocupacion          7882\n",
      "num_edad_x            0\n",
      "fl_testigo_x          0\n",
      "estado_civil       1786\n",
      "arma_medio            0\n",
      "modalidad_1257     1621\n",
      "modalidad_294      1621\n",
      "nivel_academico    3109\n",
      "sexo                  0\n",
      "dtype: int64\n"
     ]
    }
   ],
   "source": [
    "#primer_caso[[\"numero_documento\",\"fecha_denuncia\",\"parentesco\", \"ocupacion\", \"edad\", \"testigo\", \"estado_civil\", \"arma_medio\", \"modalidad_1257\", \"modalidad_294\",\"nivel_academico\", \"sexo\"]]\n",
    "primer_caso_new = pd.merge(primer_caso, casos_vif_segunda, how=\"left\",  on =['numero_documento'])\n",
    "primer_caso_new['arma_medio'] = np.where(primer_caso_new['arma_medio_x'].isna(), \"Sin arma\",primer_caso_new['arma_medio_x'])\n",
    "primer_caso_new['estado_civil'] = np.where(primer_caso_new['estado_civil_x'].isna(), primer_caso_new['estado_civil_y'],primer_caso_new['estado_civil_x'])\n",
    "primer_caso_new['sexo'] = np.where(primer_caso_new['sexo_x'].isna(), primer_caso_new['sexo_y'],primer_caso_new['sexo_x'])\n",
    "primer_caso_new['modalidad_1257'] = np.where(primer_caso_new['modalidad_1257_x'].isna(), primer_caso_new['modalidad_1257_y'],primer_caso_new['modalidad_1257_x'])\n",
    "primer_caso_new['ocupacion'] = np.where(primer_caso_new['ocupacion_x'].isna(), primer_caso_new['ocupacion_y'],primer_caso_new['ocupacion_x'])\n",
    "primer_caso_new['nivel_academico'] = np.where(primer_caso_new['nivel_academico_x'].isna(), primer_caso_new['nivel_academico_y'],primer_caso_new['nivel_academico_x'])\n",
    "primer_caso_new['modalidad_294'] = np.where(primer_caso_new['modalidad_294_x'].isna(), primer_caso_new['modalidad_294_y'],primer_caso_new['modalidad_294_x'])\n",
    "\n",
    "print(primer_caso_new[[ \"ocupacion\", \"num_edad_x\", \"fl_testigo_x\", \"estado_civil\", \"arma_medio\", \"modalidad_1257\", \"modalidad_294\",\"nivel_academico\", \"sexo\"]].isna().sum())"
   ]
  },
  {
   "cell_type": "code",
   "execution_count": 14,
   "metadata": {},
   "outputs": [
    {
     "name": "stdout",
     "output_type": "stream",
     "text": [
      "Index(['numero_documento', 'fecha_denuncia', 'ocupacion', 'edad', 'testigo',\n",
      "       'arma_medio', 'modalidad_1257', 'modalidad_294', 'nivel_academico',\n",
      "       'sexo', 'reincidencia', 'relato'],\n",
      "      dtype='object')\n"
     ]
    }
   ],
   "source": [
    "##subbase con las variables viables a trabajar\n",
    "primer_caso_new = primer_caso_new[[\"numero_documento\",\"fc_denuncia_x\",\"ocupacion\",\"num_edad_x\", \"fl_testigo_x\", \"arma_medio\", \"modalidad_1257\", \"modalidad_294\",\"nivel_academico\", \"sexo\", \"reincidencia\", \"relato_x\"]]\n",
    "primer_caso_new.rename(columns={\"fc_denuncia_x\": \"fecha_denuncia\", \"num_edad_x\": \"edad\", \"fl_testigo_x\": \"testigo\", \"relato_x\": \"relato\"}, inplace=True)\n",
    "print(primer_caso_new.columns)"
   ]
  },
  {
   "attachments": {},
   "cell_type": "markdown",
   "metadata": {},
   "source": [
    "# Procesamiento ds y homicidio\n",
    "- Remover el los registros sin cedula\n",
    "- Cambiar el formato de la varible \"numero_documento\""
   ]
  },
  {
   "cell_type": "code",
   "execution_count": 15,
   "metadata": {},
   "outputs": [],
   "source": [
    "primer_caso_new[\"fecha_denuncia\"] =pd.to_datetime(primer_caso_new[\"fecha_denuncia\"], format= '%Y-%m-%d')"
   ]
  },
  {
   "cell_type": "code",
   "execution_count": 16,
   "metadata": {},
   "outputs": [],
   "source": [
    "homi = homi.dropna(subset=['numero_documento'])\n",
    "homi[\"numero_documento\"]= homi[\"numero_documento\"].str.extract(pat='(\\d+)', expand=False).astype(int)\n",
    "ds = ds.dropna(subset=['numero_documento'])\n",
    "ds[\"numero_documento\"]= ds[\"numero_documento\"].str.extract(pat='(\\d+)', expand=False).astype(int)\n"
   ]
  },
  {
   "attachments": {},
   "cell_type": "markdown",
   "metadata": {},
   "source": [
    "# Union de las bases de homicidio y ds con vif\n",
    "- Union de ds con vif teniendo en cuenta que solo contar los registros que tienen 7 dias o más de diferencia y que la base de vif puede tener id repetidos.\n",
    "- Union de homicidio con vif"
   ]
  },
  {
   "cell_type": "code",
   "execution_count": 17,
   "metadata": {},
   "outputs": [
    {
     "name": "stdout",
     "output_type": "stream",
     "text": [
      "(34326, 12)\n"
     ]
    },
    {
     "data": {
      "text/plain": [
       "(34326, 13)"
      ]
     },
     "execution_count": 17,
     "metadata": {},
     "output_type": "execute_result"
    }
   ],
   "source": [
    "#union con ds\n",
    "print(primer_caso_new.shape)\n",
    "primer_caso = pd.merge(primer_caso_new, ds, how=\"left\",  on =['numero_documento'])\n",
    "primer_caso[\"incluir_ds\"] = np.where(abs(((pd.to_datetime(primer_caso['fecha_denuncia_y'])- primer_caso['fecha_denuncia_x']).dt.days)<=7)| primer_caso['fecha_denuncia_y'].isna() , 0, 1)\n",
    "primer_caso = primer_caso.groupby(\"numero_documento\", as_index=False)[\"incluir_ds\"].sum()\n",
    "primer_caso_new = pd.merge(primer_caso_new, primer_caso, how=\"left\",  on =['numero_documento'])\n",
    "primer_caso_new.shape"
   ]
  },
  {
   "cell_type": "code",
   "execution_count": 18,
   "metadata": {},
   "outputs": [
    {
     "data": {
      "text/plain": [
       "incluir_ds\n",
       "0    34094\n",
       "1      224\n",
       "2        8\n",
       "Name: incluir_ds, dtype: int64"
      ]
     },
     "execution_count": 18,
     "metadata": {},
     "output_type": "execute_result"
    }
   ],
   "source": [
    "primer_caso.groupby(\"incluir_ds\")[\"incluir_ds\"].count()"
   ]
  },
  {
   "cell_type": "code",
   "execution_count": 19,
   "metadata": {},
   "outputs": [
    {
     "data": {
      "text/plain": [
       "(34326, 14)"
      ]
     },
     "execution_count": 19,
     "metadata": {},
     "output_type": "execute_result"
    }
   ],
   "source": [
    "#union con homi\n",
    "primer_caso_new = pd.merge(primer_caso_new, homi[[\"numero_documento\", \"Index\"]], how=\"left\",  on =['numero_documento'])\n",
    "primer_caso_new.shape"
   ]
  },
  {
   "cell_type": "code",
   "execution_count": 20,
   "metadata": {},
   "outputs": [
    {
     "data": {
      "text/plain": [
       "Index(['numero_documento', 'fecha_denuncia', 'ocupacion', 'edad', 'testigo',\n",
       "       'arma_medio', 'modalidad_1257', 'modalidad_294', 'nivel_academico',\n",
       "       'sexo', 'reincidencia', 'relato', 'incluir_ds', 'Index'],\n",
       "      dtype='object')"
      ]
     },
     "execution_count": 20,
     "metadata": {},
     "output_type": "execute_result"
    }
   ],
   "source": [
    "primer_caso_new.columns"
   ]
  },
  {
   "cell_type": "code",
   "execution_count": 21,
   "metadata": {},
   "outputs": [],
   "source": [
    "#base final\n",
    "primer_caso_new[\"reincidente\"] = np.where((primer_caso_new['incluir_ds'] <=0) & (primer_caso_new['reincidencia']<=1) & (primer_caso_new['Index'].isna()), 0, 1)"
   ]
  },
  {
   "cell_type": "code",
   "execution_count": 22,
   "metadata": {},
   "outputs": [
    {
     "data": {
      "text/plain": [
       "reincidente\n",
       "0    31725\n",
       "1     2601\n",
       "Name: reincidente, dtype: int64"
      ]
     },
     "execution_count": 22,
     "metadata": {},
     "output_type": "execute_result"
    }
   ],
   "source": [
    "primer_caso_new.groupby(\"reincidente\")[\"reincidente\"].count()"
   ]
  },
  {
   "cell_type": "code",
   "execution_count": 23,
   "metadata": {},
   "outputs": [],
   "source": [
    "#Exportar base\n",
    "primer_caso_new.to_excel(\"union_vif_ds.xlsx\")"
   ]
  },
  {
   "attachments": {},
   "cell_type": "markdown",
   "metadata": {},
   "source": []
  }
 ],
 "metadata": {
  "kernelspec": {
   "display_name": "Python 3",
   "language": "python",
   "name": "python3"
  },
  "language_info": {
   "codemirror_mode": {
    "name": "ipython",
    "version": 3
   },
   "file_extension": ".py",
   "mimetype": "text/x-python",
   "name": "python",
   "nbconvert_exporter": "python",
   "pygments_lexer": "ipython3",
   "version": "3.8.16"
  },
  "orig_nbformat": 4,
  "vscode": {
   "interpreter": {
    "hash": "949777d72b0d2535278d3dc13498b2535136f6dfe0678499012e853ee9abcab1"
   }
  }
 },
 "nbformat": 4,
 "nbformat_minor": 2
}
